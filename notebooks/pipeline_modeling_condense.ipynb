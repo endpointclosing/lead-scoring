{
 "cells": [
  {
   "cell_type": "code",
   "execution_count": 16,
   "metadata": {},
   "outputs": [],
   "source": [
    "import pandas as pd\n",
    "import numpy as np\n",
    "from sklearn.preprocessing import OrdinalEncoder, OneHotEncoder\n",
    "import matplotlib.pyplot as plt\n",
    "import category_encoders as ce\n",
    "from sklearn.compose import make_column_selector as selector"
   ]
  },
  {
   "cell_type": "code",
   "execution_count": 17,
   "metadata": {},
   "outputs": [],
   "source": [
    "pd.options.display.max_columns = 1000\n",
    "pd.options.display.max_rows = 100\n",
    "plt.rcParams[\"figure.figsize\"] = (10,8)\n",
    "plt.style.use('seaborn-darkgrid')"
   ]
  },
  {
   "cell_type": "code",
   "execution_count": 18,
   "metadata": {},
   "outputs": [],
   "source": [
    "all_lead_acs_county_mls_raw = pd.read_csv(\"../data/cutoff_all_lead_mls.csv\", low_memory = False, index_col = 0)"
   ]
  },
  {
   "cell_type": "code",
   "execution_count": 19,
   "metadata": {},
   "outputs": [
    {
     "data": {
      "text/plain": [
       "18291"
      ]
     },
     "execution_count": 19,
     "metadata": {},
     "output_type": "execute_result"
    }
   ],
   "source": [
    "all_lead_acs_county_mls_raw[\"MARKET_STATE_STD\"].isna().sum()"
   ]
  },
  {
   "cell_type": "code",
   "execution_count": 20,
   "metadata": {},
   "outputs": [
    {
     "data": {
      "text/plain": [
       "62"
      ]
     },
     "execution_count": 20,
     "metadata": {},
     "output_type": "execute_result"
    }
   ],
   "source": [
    "all_lead_acs_county_mls_raw[\"MARKET_COUNTY_FULL\"].nunique()"
   ]
  },
  {
   "cell_type": "code",
   "execution_count": 21,
   "metadata": {},
   "outputs": [
    {
     "data": {
      "text/plain": [
       "array(['WA', 'CA', 'WA', ..., 'CA', 'CA', 'AZ'], dtype=object)"
      ]
     },
     "execution_count": 21,
     "metadata": {},
     "output_type": "execute_result"
    }
   ],
   "source": [
    "np.where(all_lead_acs_county_mls_raw[\"MARKET_STATE_STD\"].isna(),all_lead_acs_county_mls_raw[\"STATE_STD\"],all_lead_acs_county_mls_raw[\"MARKET_STATE_STD\"])"
   ]
  },
  {
   "cell_type": "code",
   "execution_count": 22,
   "metadata": {},
   "outputs": [
    {
     "data": {
      "text/plain": [
       "0.8032086423734279"
      ]
     },
     "execution_count": 22,
     "metadata": {},
     "output_type": "execute_result"
    }
   ],
   "source": [
    "all_lead_acs_county_mls_raw[\"AGENT_ROLE_C\"].isna().sum() / all_lead_acs_county_mls_raw.shape[0]"
   ]
  },
  {
   "cell_type": "code",
   "execution_count": 23,
   "metadata": {},
   "outputs": [
    {
     "data": {
      "text/plain": [
       "2"
      ]
     },
     "execution_count": 23,
     "metadata": {},
     "output_type": "execute_result"
    }
   ],
   "source": [
    "all_lead_acs_county_mls= all_lead_acs_county_mls_raw.drop([\"STATE_STD\"], axis = 1)\n",
    "all_lead_acs_county_mls.rename({\"MARKET_STATE_STD\":\"STATE_STD\"},axis=1)[\"STATE_STD\"].nunique()"
   ]
  },
  {
   "cell_type": "code",
   "execution_count": 24,
   "metadata": {},
   "outputs": [],
   "source": [
    "state_acs = pd.read_csv(\"../data/census/state_acs.csv\")\n",
    "nation_acs = pd.read_csv(\"../data/census/nation_acs.csv\")"
   ]
  },
  {
   "cell_type": "code",
   "execution_count": 25,
   "metadata": {},
   "outputs": [],
   "source": [
    "def acs_col_impute(df:pd.DataFrame, state_df:pd.DataFrame, nation_df:pd.DataFrame) -> pd.DataFrame:\n",
    "    \n",
    "    # state imputation\n",
    "    for state in df[\"STATE_STD\"].unique():\n",
    "        state_fillna_dict = {k: v for d in state_df[[i for i in state_df.columns if i.startswith(\"Percent!!\")]][state_df[\"STATE_STD\"] == state].to_dict(orient=\"records\") for k, v in d.items()}\n",
    "        df[df[\"STATE_STD\"] == state] = df[df[\"STATE_STD\"] == state].fillna(state_fillna_dict)\n",
    "\n",
    "    # nation imputation\n",
    "    nation_fillna_dict = {k: v for d in nation_df[[i for i in nation_df.columns if i.startswith(\"Percent!!\")]].to_dict(orient=\"records\") for k, v in d.items()}\n",
    "    df = df.fillna(nation_fillna_dict)\n",
    "\n",
    "    return df"
   ]
  },
  {
   "cell_type": "code",
   "execution_count": 26,
   "metadata": {},
   "outputs": [],
   "source": [
    "def condense_category(col:pd.Series, min_freq=0.01, new_name='Other')-> pd.Series:\n",
    "# function for shrink the level based on frequency\n",
    "# do the value count with normalization\n",
    "# set the cutoff threshold\n",
    "    series = pd.value_counts(col, normalize= True)\n",
    "    mask = (series).lt(min_freq)\n",
    "    return pd.Series(np.where(col.isin(series[mask].index), new_name, col))"
   ]
  },
  {
   "cell_type": "code",
   "execution_count": 27,
   "metadata": {},
   "outputs": [],
   "source": [
    "def ordinal_encoding(df:pd.DataFrame, col_list:list) -> pd.DataFrame:\n",
    "    for col in col_list:\n",
    "        ord_enc = OrdinalEncoder()\n",
    "        df[col +\"_ORD\"] = df[col].apply(ord_enc.fit_transform)\n",
    "    return df"
   ]
  },
  {
   "cell_type": "code",
   "execution_count": 32,
   "metadata": {},
   "outputs": [],
   "source": [
    "def pipeline_data(df:pd.DataFrame, state_acs: pd.DataFrame, nation_acs: pd.DataFrame) -> pd.DataFrame:\n",
    "\n",
    "    # fill the value of MARKET STATE_STD with STATE_STD if missing\n",
    "    # replace the STATE_STD column with MARKET_STATE_STD\n",
    "    if \"MARKET_STATE_STD\" in df.columns:\n",
    "        df[\"MARKET_STATE_STD\"] = np.where(df[\"MARKET_STATE_STD\"].isna(),df[\"STATE_STD\"],df[\"MARKET_STATE_STD\"])\n",
    "        df = df.drop([\"STATE_STD\"], axis = 1)\n",
    "        df = df.rename({\"MARKET_STATE_STD\":\"STATE_STD\"}, axis=1)\n",
    "    \n",
    "    # drop the columns with missing value over 80%\n",
    "    df = df.loc[:, (df.isnull().sum(axis=0) / df.shape[0] < 0.8)]\n",
    "\n",
    "    # drop column that has more than 100 unique values\n",
    "    n_unique_col = [col for col in df.select_dtypes(\"O\").columns if df[col].nunique() > 100]\n",
    "    ## exclude id, for future reference\n",
    "    n_unique_col.remove(\"ID\")\n",
    "    df = df.drop(n_unique_col, axis = 1)\n",
    "\n",
    "    numeric_drop_cols = ['TOTAL_TRANSACTION_COUNT_C', 'TOTAL_LISTING_COUNT_C', 'AVERAGE_CLOSE_PRICE_C', 'BS_COUNT_C', 'LEAD_NUMBER_C', \n",
    "                        'MATRIX_UNIQUE_ID_C','PMXAGENT_ID_C',]\n",
    "    categorical_drop_cols_manual = [\"RECORD_TYPE_ID\", \"STATE\", \"OWNER_ID\",\"CREATED_BY_ID\",\"LAST_MODIFIED_BY_ID\", \"MOST_RECENT_CAMPAIGN_C\",\n",
    "                                     \"DISQUALIFIED_REASONS_C\", \"EMAIL_UNKNOWN_DELIVERABILITY_C\", \"WEB_LEAD_C\", \"KNOCK_WEBHOOK_2021_C\",\n",
    "                                     \"DO_NOT_CONTACT_C\",\"JET_CLOSING_C\",\"NO_SHOW_CP_C\",\"MARKET_COUNTY_FULL\",\"Geographic Area Name\"]\n",
    "    boolean_drop_cols_manual = [\"IS_DELETED\",\"IS_UNREAD_BY_OWNER\",\"DO_NOT_CALL\",\"HAS_OPTED_OUT_OF_FAX\",\"APEX_PROCESSED_C\",\n",
    "                                \"KNOCK_WEBHOOK_C\", \"EMAIL_BOUNCED_C\",\"IS_LEAD_C\",\"PARDOT_REASSIGNMENT_C\",\"DIGITAL_TE_USER_C\",\"CHECKBOX_C\",\"KCA_C\",\"HAS_OPTED_OUT_OF_EMAIL\"]\n",
    "\n",
    "\n",
    "    # drop the acs value columns, since national value and state value are imputed\n",
    "    percent_col = [col for col in df.columns if (col.startswith(\"Percent!!\"))]\n",
    "    value_percent_col = [col for col in percent_col if df[col].gt(100).any()]\n",
    "    non_value_percent_col = [col for col in percent_col if df[col].lt(100).all()]\n",
    "\n",
    "    correlated_features = set()\n",
    "    correlation_matrix = all_lead_acs_county_mls_raw[non_value_percent_col].corr()\n",
    "\n",
    "    for i in range(len(correlation_matrix.columns)):\n",
    "        for j in range(i):\n",
    "            if abs(correlation_matrix.iloc[i, j]) > 0.9:\n",
    "                colname = correlation_matrix.columns[i]\n",
    "                correlated_features.add(colname)\n",
    "\n",
    "    correlated_features = list(correlated_features)\n",
    "\n",
    "    # drop all the selected cols\n",
    "    df = df.drop(numeric_drop_cols + categorical_drop_cols_manual + boolean_drop_cols_manual + value_percent_col + correlated_features, axis = 1)\n",
    "\n",
    "    df = acs_col_impute(df, state_acs, nation_acs)\n",
    "\n",
    "\n",
    "    cat_keep_list = [\"LEVEL_VETTING_C\"]\n",
    "    cat_fillna_list = [col for col in df.select_dtypes(\"O\").columns if col not in cat_keep_list]\n",
    "\n",
    "    #impute cat col missing value with UNK\n",
    "    for col in cat_fillna_list:\n",
    "        df[col] = df[col].fillna(\"UNK\")\n",
    "    \n",
    "    # specify ordinal variables\n",
    "    ord_col = [\"LEVEL_VETTING_C\"]\n",
    "    cat_col = [\"LEAD_SOURCE\",\"STATUS\",\"ROLE_C\",\"STATE_STD\"]\n",
    "\n",
    "    # condense number of categorical levels\n",
    "    for col in cat_col:\n",
    "        df[col] = condense_category(df[col])\n",
    "\n",
    "    # ordinal encoding\n",
    "    df[\"LEVEL_VETTING_C\"]= df[\"LEVEL_VETTING_C\"].fillna(np.nan)\n",
    "    level_mapping = [ 'Level 3 - Less than 4 listings/yr', 'Level 2 - 4+ listings/yr', \"Level 1 - 10+ listings/yr\", 'Level Gold 20-29 Listings/yr', 'Level Platinum 30+ Listings/yr']\n",
    "    encoder = OrdinalEncoder(categories=[level_mapping], handle_unknown = \"use_encoded_value\", unknown_value= np.nan, encoded_missing_value= -1)\n",
    "    encoder.fit(df[[\"LEVEL_VETTING_C\"]])\n",
    "    df[\"LEVEL_VETTING_C\"]= encoder.transform(df[[\"LEVEL_VETTING_C\"]])\n",
    "\n",
    "    # onehot encoding\n",
    "    df = pd.get_dummies(df, columns = cat_col)\n",
    "\n",
    "    return df"
   ]
  },
  {
   "cell_type": "code",
   "execution_count": 33,
   "metadata": {},
   "outputs": [],
   "source": [
    "all_lead_acs_mls_model = pipeline_data(all_lead_acs_county_mls_raw, state_acs, nation_acs)"
   ]
  },
  {
   "cell_type": "code",
   "execution_count": 35,
   "metadata": {},
   "outputs": [],
   "source": [
    "# all_lead_acs_mls_model.to_csv(\"../data/model/v2_all_lead_acs_mls_model.csv\",index = None)"
   ]
  },
  {
   "cell_type": "code",
   "execution_count": null,
   "metadata": {},
   "outputs": [],
   "source": []
  }
 ],
 "metadata": {
  "interpreter": {
   "hash": "a0eb2d2dd4b4dd2649350d09f611fdae14e412f0f9cf0ef9612266193b255263"
  },
  "kernelspec": {
   "display_name": "Python 3.10.4 ('ml_env')",
   "language": "python",
   "name": "python3"
  },
  "language_info": {
   "codemirror_mode": {
    "name": "ipython",
    "version": 3
   },
   "file_extension": ".py",
   "mimetype": "text/x-python",
   "name": "python",
   "nbconvert_exporter": "python",
   "pygments_lexer": "ipython3",
   "version": "3.10.4"
  },
  "orig_nbformat": 4
 },
 "nbformat": 4,
 "nbformat_minor": 2
}
