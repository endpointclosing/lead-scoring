{
 "cells": [
  {
   "cell_type": "code",
   "execution_count": 1,
   "metadata": {},
   "outputs": [],
   "source": [
    "import snowflake.connector\n",
    "import sys\n",
    "import pandas as pd\n",
    "import numpy as np\n",
    "import matplotlib.pyplot as plt\n",
    "import seaborn as sns\n",
    "import datetime as dt"
   ]
  },
  {
   "cell_type": "code",
   "execution_count": null,
   "metadata": {},
   "outputs": [],
   "source": [
    "con = snowflake.connector.connect(\n",
    "    user=\"tliang@endpointclosing.com\",\n",
    "    account=\"endpoint\",\n",
    "    authenticator=\"externalbrowser\",\n",
    "    role=\"SNOWFLAKE_DATA_ENGINEERING\",\n",
    "    warehouse=\"DATAENGINEERING_WH\"\n",
    ")\n",
    "cur = con.cursor()"
   ]
  }
 ],
 "metadata": {
  "kernelspec": {
   "display_name": "Python 3.9.12 ('base')",
   "language": "python",
   "name": "python3"
  },
  "language_info": {
   "codemirror_mode": {
    "name": "ipython",
    "version": 3
   },
   "file_extension": ".py",
   "mimetype": "text/x-python",
   "name": "python",
   "nbconvert_exporter": "python",
   "pygments_lexer": "ipython3",
   "version": "3.9.12"
  },
  "orig_nbformat": 4,
  "vscode": {
   "interpreter": {
    "hash": "3e67353882427c901042c1d493e3dd4483568013277e790881b084b86e9e0511"
   }
  }
 },
 "nbformat": 4,
 "nbformat_minor": 2
}
