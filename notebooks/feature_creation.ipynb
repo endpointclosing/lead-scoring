{
 "cells": [
  {
   "cell_type": "code",
   "execution_count": 1,
   "metadata": {},
   "outputs": [],
   "source": [
    "import pandas as pd\n",
    "import numpy as np"
   ]
  },
  {
   "cell_type": "code",
   "execution_count": null,
   "metadata": {},
   "outputs": [],
   "source": [
    "#feature creation\n",
    "\n",
    "# number of people in salesforce leads (time sensitivity, need rollback)\n",
    "# number of people in salesforce contact (converted) (time sensitivity, need rollback)"
   ]
  }
 ],
 "metadata": {
  "interpreter": {
   "hash": "a0eb2d2dd4b4dd2649350d09f611fdae14e412f0f9cf0ef9612266193b255263"
  },
  "kernelspec": {
   "display_name": "Python 3.10.4 ('ml_env')",
   "language": "python",
   "name": "python3"
  },
  "language_info": {
   "codemirror_mode": {
    "name": "ipython",
    "version": 3
   },
   "file_extension": ".py",
   "mimetype": "text/x-python",
   "name": "python",
   "nbconvert_exporter": "python",
   "pygments_lexer": "ipython3",
   "version": "3.10.4"
  },
  "orig_nbformat": 4
 },
 "nbformat": 4,
 "nbformat_minor": 2
}
