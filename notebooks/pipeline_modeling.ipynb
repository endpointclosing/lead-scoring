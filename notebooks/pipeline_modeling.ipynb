{
 "cells": [
  {
   "cell_type": "code",
   "execution_count": 1,
   "metadata": {},
   "outputs": [],
   "source": [
    "import pandas as pd\n",
    "import numpy as np\n",
    "from sklearn.preprocessing import OrdinalEncoder, OneHotEncoder\n",
    "import matplotlib.pyplot as plt\n",
    "import category_encoders as ce\n",
    "from sklearn.compose import make_column_selector as selector"
   ]
  },
  {
   "cell_type": "code",
   "execution_count": 2,
   "metadata": {},
   "outputs": [],
   "source": [
    "pd.options.display.max_columns = 1000\n",
    "pd.options.display.max_rows = 100\n",
    "plt.rcParams[\"figure.figsize\"] = (10,8)\n",
    "plt.style.use('seaborn-darkgrid')"
   ]
  },
  {
   "cell_type": "code",
   "execution_count": 11,
   "metadata": {},
   "outputs": [],
   "source": [
    "all_lead_acs_county_mls_raw = pd.read_csv(\"../data/cutoff_all_lead_mls.csv\", low_memory = False, index_col = 0)"
   ]
  },
  {
   "cell_type": "code",
   "execution_count": 58,
   "metadata": {},
   "outputs": [
    {
     "data": {
      "text/plain": [
       "18258"
      ]
     },
     "execution_count": 58,
     "metadata": {},
     "output_type": "execute_result"
    }
   ],
   "source": [
    "all_lead_acs_county_mls_raw[\"MARKET_STATE_STD\"].isna().sum()"
   ]
  },
  {
   "cell_type": "code",
   "execution_count": 60,
   "metadata": {},
   "outputs": [
    {
     "data": {
      "text/plain": [
       "array(['CA', 'AZ', 'CA', ..., 'CA', 'WA', 'CA'], dtype=object)"
      ]
     },
     "execution_count": 60,
     "metadata": {},
     "output_type": "execute_result"
    }
   ],
   "source": [
    "np.where(all_lead_acs_county_mls_raw[\"MARKET_STATE_STD\"].isna(),all_lead_acs_county_mls_raw[\"STATE_STD\"],all_lead_acs_county_mls_raw[\"MARKET_STATE_STD\"])"
   ]
  },
  {
   "cell_type": "code",
   "execution_count": 52,
   "metadata": {},
   "outputs": [
    {
     "data": {
      "text/plain": [
       "0.803400508864747"
      ]
     },
     "execution_count": 52,
     "metadata": {},
     "output_type": "execute_result"
    }
   ],
   "source": [
    "all_lead_acs_county_mls_raw[\"AGENT_ROLE_C\"].isna().sum() / all_lead_acs_county_mls_raw.shape[0]"
   ]
  },
  {
   "cell_type": "code",
   "execution_count": 34,
   "metadata": {},
   "outputs": [
    {
     "data": {
      "text/plain": [
       "2"
      ]
     },
     "execution_count": 34,
     "metadata": {},
     "output_type": "execute_result"
    }
   ],
   "source": [
    "all_lead_acs_county_mls= all_lead_acs_county_mls_raw.drop([\"STATE_STD\"], axis = 1)\n",
    "all_lead_acs_county_mls.rename({\"MARKET_STATE_STD\":\"STATE_STD\"},axis=1)[\"STATE_STD\"].nunique()"
   ]
  },
  {
   "cell_type": "code",
   "execution_count": 12,
   "metadata": {},
   "outputs": [],
   "source": [
    "\n",
    "\n",
    "state_acs = pd.read_csv(\"../data/census/state_acs.csv\")\n",
    "nation_acs = pd.read_csv(\"../data/census/nation_acs.csv\")"
   ]
  },
  {
   "cell_type": "code",
   "execution_count": 13,
   "metadata": {},
   "outputs": [],
   "source": [
    "def acs_col_impute(df:pd.DataFrame, state_df:pd.DataFrame, nation_df:pd.DataFrame) -> pd.DataFrame:\n",
    "    \n",
    "    # state imputation\n",
    "    for state in df[\"STATE_STD\"].unique():\n",
    "        state_fillna_dict = {k: v for d in state_df[[i for i in state_df.columns if i.startswith(\"Percent!!\")]][state_df[\"STATE_STD\"] == state].to_dict(orient=\"records\") for k, v in d.items()}\n",
    "        df[df[\"STATE_STD\"] == state] = df[df[\"STATE_STD\"] == state].fillna(state_fillna_dict)\n",
    "\n",
    "    # nation imputation\n",
    "    nation_fillna_dict = {k: v for d in nation_df[[i for i in nation_df.columns if i.startswith(\"Percent!!\")]].to_dict(orient=\"records\") for k, v in d.items()}\n",
    "    df = df.fillna(nation_fillna_dict)\n",
    "\n",
    "    return df"
   ]
  },
  {
   "cell_type": "code",
   "execution_count": 14,
   "metadata": {},
   "outputs": [],
   "source": [
    "def condense_category(col:pd.Series, min_freq=0.01, new_name='Other')-> pd.Series:\n",
    "# function for shrink the level based on frequency\n",
    "# do the value count with normalization\n",
    "# set the cutoff threshold\n",
    "    series = pd.value_counts(col, normalize= True)\n",
    "    mask = (series).lt(min_freq)\n",
    "    return pd.Series(np.where(col.isin(series[mask].index), new_name, col))"
   ]
  },
  {
   "cell_type": "code",
   "execution_count": 15,
   "metadata": {},
   "outputs": [],
   "source": [
    "def ordinal_encoding(df:pd.DataFrame, col_list:list) -> pd.DataFrame:\n",
    "    for col in col_list:\n",
    "        ord_enc = OrdinalEncoder()\n",
    "        df[col +\"_ORD\"] = df[col].apply(ord_enc.fit_transform)\n",
    "    return df"
   ]
  },
  {
   "cell_type": "code",
   "execution_count": 61,
   "metadata": {},
   "outputs": [],
   "source": [
    "def pipeline_data(df:pd.DataFrame, state_acs: pd.DataFrame, nation_acs: pd.DataFrame) -> pd.DataFrame:\n",
    "\n",
    "    # to do: fill the value of MARKET STATE_STD with STATE_STD if missing\n",
    "    \n",
    "    \n",
    "    # replace the STATE_STD column with MARKET_STATE_STD\n",
    "    if \"MARKET_STATE_STD\" in df.columns:\n",
    "        df[\"MARKET_STATE_STD\"] = np.where(df[\"MARKET_STATE_STD\"].isna(),df[\"STATE_STD\"],df[\"MARKET_STATE_STD\"])\n",
    "        df = df.drop([\"STATE_STD\"], axis = 1)\n",
    "        df = df.rename({\"MARKET_STATE_STD\":\"STATE_STD\"}, axis=1)\n",
    "    \n",
    "    # drop the columns with missing value over 80%\n",
    "    df = df.loc[:, (df.isnull().sum(axis=0) / df.shape[0] < 0.8)]\n",
    "\n",
    "    # drop column that has more than 100 unique values\n",
    "    n_unique_col = [col for col in df.select_dtypes(\"O\").columns if df[col].nunique() > 100]\n",
    "    ## exclude id, for future reference\n",
    "    n_unique_col.remove(\"ID\")\n",
    "    df = df.drop(n_unique_col, axis = 1)\n",
    "\n",
    "    numeric_drop_cols = ['TOTAL_TRANSACTION_COUNT_C', 'TOTAL_LISTING_COUNT_C', 'AVERAGE_CLOSE_PRICE_C', 'BS_COUNT_C', 'LEAD_NUMBER_C', \n",
    "                        'MATRIX_UNIQUE_ID_C','PMXAGENT_ID_C',]\n",
    "    categorical_drop_cols_manual = [\"RECORD_TYPE_ID\", \"STATE\", \"OWNER_ID\",\"CREATED_BY_ID\",\"LAST_MODIFIED_BY_ID\", \"MOST_RECENT_CAMPAIGN_C\",\n",
    "                                     \"DISQUALIFIED_REASONS_C\", \"EMAIL_UNKNOWN_DELIVERABILITY_C\", \"WEB_LEAD_C\", \"KNOCK_WEBHOOK_2021_C\",\"DO_NOT_CONTACT_C\"]\n",
    "    boolean_drop_cols_manual = [\"IS_DELETED\",\"IS_UNREAD_BY_OWNER\",\"DO_NOT_CALL\",\"HAS_OPTED_OUT_OF_FAX\",\"APEX_PROCESSED_C\",\n",
    "                                \"KNOCK_WEBHOOK_C\", \"EMAIL_BOUNCED_C\",\"IS_LEAD_C\",\"PARDOT_REASSIGNMENT_C\",\"DIGITAL_TE_USER_C\",\"CHECKBOX_C\",\"KCA_C\"]\n",
    "    # drop the acs value columns, since national value and state value are imputed\n",
    "    percent_col = [col for col in df.columns if (col.startswith(\"Percent!!\"))]\n",
    "    value_percent_col = [col for col in percent_col if ((df[col].values) >=100).any()]\n",
    "\n",
    "\n",
    "    \n",
    "    # drop all the selected cols\n",
    "    df = df.drop(numeric_drop_cols + categorical_drop_cols_manual + boolean_drop_cols_manual + value_percent_col, axis = 1)\n",
    "\n",
    "    df = acs_col_impute(df, state_acs, nation_acs)\n",
    "\n",
    "\n",
    "    cat_keep_list = [\"LEVEL_VETTING_C\"]\n",
    "    cat_fillna_list = [col for col in df.select_dtypes(\"O\").columns if col not in cat_keep_list]\n",
    "\n",
    "    #impute cat col missing value with UNK\n",
    "    for col in cat_fillna_list:\n",
    "        df[col] = df[col].fillna(\"UNK\")\n",
    "    \n",
    "    # specify ordinal variables\n",
    "    ord_col = [\"LEVEL_VETTING_C\"]\n",
    "    cat_col = [\"LEAD_SOURCE\",\"STATUS\",\"ROLE_C\",\"STATE_STD\"]\n",
    "\n",
    "   \n",
    "\n",
    "    # condense number of categorical levels\n",
    "    for col in cat_col:\n",
    "        df[col] = condense_category(df[col])\n",
    "\n",
    "    # ordinal encoding\n",
    "    df[\"LEVEL_VETTING_C\"]= df[\"LEVEL_VETTING_C\"].fillna(np.nan)\n",
    "    level_mapping = [ 'Level 3 - Less than 4 listings/yr', 'Level 2 - 4+ listings/yr', \"Level 1 - 10+ listings/yr\", 'Level Gold 20-29 Listings/yr', 'Level Platinum 30+ Listings/yr']\n",
    "    encoder = OrdinalEncoder(categories=[level_mapping], handle_unknown = \"use_encoded_value\", unknown_value= np.nan, encoded_missing_value= -1)\n",
    "    encoder.fit(df[[\"LEVEL_VETTING_C\"]])\n",
    "    df[\"LEVEL_VETTING_C\"]= encoder.transform(df[[\"LEVEL_VETTING_C\"]])\n",
    "\n",
    "    # onehot encoding\n",
    "    df = pd.get_dummies(df, columns = cat_col)\n",
    "\n",
    "    return df"
   ]
  },
  {
   "cell_type": "code",
   "execution_count": 62,
   "metadata": {},
   "outputs": [],
   "source": [
    "all_lead_acs_mls_model = pipeline_data(all_lead_acs_county_mls_raw, state_acs, nation_acs)"
   ]
  },
  {
   "cell_type": "markdown",
   "metadata": {},
   "source": [
    "# Cleaning"
   ]
  },
  {
   "cell_type": "markdown",
   "metadata": {},
   "source": [
    "## Missing Value"
   ]
  },
  {
   "cell_type": "code",
   "execution_count": 6,
   "metadata": {},
   "outputs": [],
   "source": [
    "# drop the columns with missing value over 80%\n",
    "all_lead_acs_county = all_lead_acs_county_raw.loc[:, (all_lead_acs_county_raw.isnull().sum(axis=0) / all_lead_acs_county_raw.shape[0] < 0.8)]"
   ]
  },
  {
   "cell_type": "markdown",
   "metadata": {},
   "source": [
    "## Manually Drop columns"
   ]
  },
  {
   "cell_type": "code",
   "execution_count": null,
   "metadata": {},
   "outputs": [],
   "source": [
    "n_unique_col = [col for col in all_lead_acs_county.select_dtypes(\"O\").columns if all_lead_acs_county[col].nunique() > 100]\n",
    "n_unique_col.remove(\"ID\")\n",
    "all_lead_acs_county = all_lead_acs_county.drop(n_unique_col, axis = 1)"
   ]
  },
  {
   "cell_type": "code",
   "execution_count": 3,
   "metadata": {},
   "outputs": [],
   "source": [
    "numeric_drop_cols = ['index',\n",
    " 'TOTAL_TRANSACTION_COUNT_C',\n",
    " 'TOTAL_LISTING_COUNT_C',\n",
    " 'AVERAGE_CLOSE_PRICE_C',\n",
    " 'BS_COUNT_C',\n",
    " 'LEAD_NUMBER_C',\n",
    " 'MATRIX_UNIQUE_ID_C',\n",
    " 'PMXAGENT_ID_C',]"
   ]
  },
  {
   "cell_type": "code",
   "execution_count": 2,
   "metadata": {},
   "outputs": [],
   "source": [
    "categorical_drop_cols_manual = [\"RECORD_TYPE_ID\", \"STATE\", \"OWNER_ID\",\"CREATED_BY_ID\",\"LAST_MODIFIED_BY_ID\", \"MOST_RECENT_CAMPAIGN_C\",\n",
    "\"COUNTY_C\", \"DISQUALIFIED_REASONS_C\", \"EMAIL_UNKNOWN_DELIVERABILITY_C\", \"WEB_LEAD_C\", \"KNOCK_WEBHOOK_2021_C\",\"DO_NOT_CONTACT_C\"]"
   ]
  },
  {
   "cell_type": "code",
   "execution_count": null,
   "metadata": {},
   "outputs": [],
   "source": [
    "boolean_drop_cols_manual = [\"IS_DELETED\",\"IS_UNREAD_BY_OWNER\",\"DO_NOT_CALL\",\"HAS_OPTED_OUT_OF_FAX\",\"APEX_PROCESSED_C\",\n",
    " \"KNOCK_WEBHOOK_C\", \"EMAIL_BOUNCED_C\",\"IS_LEAD_C\",\"PARDOT_REASSIGNMENT_C\",\"DIGITAL_TE_USER_C\",\"CHECKBOX_C\",\"KCA_C\"]"
   ]
  },
  {
   "cell_type": "code",
   "execution_count": 17,
   "metadata": {},
   "outputs": [],
   "source": [
    "#### drop the acs value columns, since national value and state value are imputed\n",
    "percent_col = [col for col in all_lead_acs_county.columns if (col.startswith(\"Percent!!\"))]\n",
    "value_percent_col = [col for col in percent_col if ((all_lead_acs_county[col].values) >=100).any()]"
   ]
  },
  {
   "cell_type": "code",
   "execution_count": 4,
   "metadata": {},
   "outputs": [
    {
     "data": {
      "text/plain": [
       "['index',\n",
       " 'TOTAL_TRANSACTION_COUNT_C',\n",
       " 'TOTAL_LISTING_COUNT_C',\n",
       " 'AVERAGE_CLOSE_PRICE_C',\n",
       " 'BS_COUNT_C',\n",
       " 'LEAD_NUMBER_C',\n",
       " 'MATRIX_UNIQUE_ID_C',\n",
       " 'PMXAGENT_ID_C',\n",
       " 'RECORD_TYPE_ID',\n",
       " 'STATE',\n",
       " 'OWNER_ID',\n",
       " 'CREATED_BY_ID',\n",
       " 'LAST_MODIFIED_BY_ID',\n",
       " 'MOST_RECENT_CAMPAIGN_C',\n",
       " 'COUNTY_C',\n",
       " 'DISQUALIFIED_REASONS_C',\n",
       " 'EMAIL_UNKNOWN_DELIVERABILITY_C',\n",
       " 'WEB_LEAD_C',\n",
       " 'KNOCK_WEBHOOK_2021_C',\n",
       " 'DO_NOT_CONTACT_C']"
      ]
     },
     "execution_count": 4,
     "metadata": {},
     "output_type": "execute_result"
    }
   ],
   "source": [
    "all_lead_acs_county = all_lead_acs_county.drop (numeric_drop_cols + categorical_drop_cols_manual + boolean_drop_cols_manual + value_percent_col, axis = 1)"
   ]
  },
  {
   "cell_type": "markdown",
   "metadata": {},
   "source": [
    "## Inpute value"
   ]
  },
  {
   "cell_type": "markdown",
   "metadata": {},
   "source": [
    "### Numerical columns"
   ]
  },
  {
   "cell_type": "code",
   "execution_count": 13,
   "metadata": {},
   "outputs": [],
   "source": [
    "# transform the full state name to acronym and for imputing missing value\n",
    "# using state value to impute first, if no state information, use nation value"
   ]
  },
  {
   "cell_type": "code",
   "execution_count": 14,
   "metadata": {},
   "outputs": [],
   "source": [
    "state_acs = pd.read_csv(\"../data/census/state_acs.csv\")\n",
    "nation_acs = pd.read_csv(\"../data/census/nation_acs.csv\")"
   ]
  },
  {
   "cell_type": "code",
   "execution_count": 15,
   "metadata": {},
   "outputs": [],
   "source": [
    "def acs_col_impute(df:pd.DataFrame, state_df:pd.DataFrame, nation_df:pd.DataFrame) -> pd.DataFrame:\n",
    "    \n",
    "    # state imputation\n",
    "    for state in df[\"STATE_STD\"].unique():\n",
    "        state_fillna_dict = {k: v for d in state_df[[i for i in state_df.columns if i.startswith(\"Percent!!\")]][state_df[\"STATE_STD\"] == state].to_dict(orient=\"records\") for k, v in d.items()}\n",
    "        df[df[\"STATE_STD\"] == state] = df[df[\"STATE_STD\"] == state].fillna(state_fillna_dict)\n",
    "\n",
    "    # nation imputation\n",
    "    nation_fillna_dict = {k: v for d in nation_df[[i for i in nation_df.columns if i.startswith(\"Percent!!\")]].to_dict(orient=\"records\") for k, v in d.items()}\n",
    "    df = df.fillna(nation_fillna_dict)\n",
    "\n",
    "    return df"
   ]
  },
  {
   "cell_type": "code",
   "execution_count": 16,
   "metadata": {},
   "outputs": [],
   "source": [
    "all_lead_acs_county = acs_col_impute(all_lead_acs_county,state_acs, nation_acs)"
   ]
  },
  {
   "cell_type": "markdown",
   "metadata": {},
   "source": [
    "### Categorical Columns"
   ]
  },
  {
   "cell_type": "code",
   "execution_count": 19,
   "metadata": {},
   "outputs": [],
   "source": [
    "# notes\n",
    "# \"RATING\" may not be the column for ratings, check out other columns\n",
    "# \"MOST_RECENT_CAMPAIGN_C\" should be modified by time\n",
    "# \"LEVEL_VETTING_C\",\"LEAD_RANKING_C\" both have level information, but \"LEAD_RANKING_C\" doesn't contain \"level 2\" \"level 1\"\n",
    "# exclude_col = [\"RATING\",\"LEAD_RANKING_C\",\"MOST_RECENT_CAMPAIGN_C\"]\n",
    "# ord_col = [\"LEVEL_VETTING_C\",\"LEAD_RANKING_C\"]\n",
    "# cat_col = [\"RECORD_TYPE_ID\",\"STATE\",\"COUNTRY\",\"LEAD_SOURCE\",\"STATUS\",\"RATING\", \"CREATED_BY_ID\", \"LAST_MODIFIED_BY_ID\", \"EMAIL_BOUNCED_REASON\",\n",
    "#              \"MOST_RECENT_CAMPAIGN_C\",\"EVENT_TYPE_C\",\"COUNTY_C\",\"FA_LOYAL_LEAD_C\", \"PREFERRED_ESCROW_COMPANY_C\", \"ROLE_C\",\"AGENT_ROLE_C\",\"WEB_LEAD_C\",\n",
    "#                ]"
   ]
  },
  {
   "cell_type": "markdown",
   "metadata": {},
   "source": [
    "### Impute Missing Value"
   ]
  },
  {
   "cell_type": "code",
   "execution_count": 27,
   "metadata": {},
   "outputs": [
    {
     "data": {
      "text/plain": [
       "['LEAD_SOURCE', 'STATUS', 'ROLE_C', 'AGENT_ROLE_C', 'STATE_STD']"
      ]
     },
     "execution_count": 27,
     "metadata": {},
     "output_type": "execute_result"
    }
   ],
   "source": [
    "cat_keep_list = [\"LEVEL_VETTING_C\"]\n",
    "cat_fillna_list = [col for col in all_lead_acs_county.select_dtypes(\"O\").columns if col not in cat_keep_list]\n",
    "cat_fillna_list"
   ]
  },
  {
   "cell_type": "code",
   "execution_count": 28,
   "metadata": {},
   "outputs": [],
   "source": [
    "for col in cat_fillna_list:\n",
    "    all_lead_acs_county[col] = all_lead_acs_county[col].fillna(\"UNK\")"
   ]
  },
  {
   "cell_type": "markdown",
   "metadata": {},
   "source": [
    "# Encoding"
   ]
  },
  {
   "cell_type": "markdown",
   "metadata": {},
   "source": [
    "## Categorical"
   ]
  },
  {
   "cell_type": "markdown",
   "metadata": {},
   "source": [
    "### Categorical level condense"
   ]
  },
  {
   "cell_type": "code",
   "execution_count": 38,
   "metadata": {},
   "outputs": [],
   "source": [
    "def condense_category(col:pd.Series, min_freq=0.01, new_name='Other')-> pd.Series:\n",
    "# function for shrink the level based on frequency\n",
    "# do the value count with normalization\n",
    "# set the cutoff threshold\n",
    "    series = pd.value_counts(col, normalize= True)\n",
    "    mask = (series).lt(min_freq)\n",
    "    return pd.Series(np.where(col.isin(series[mask].index), new_name, col))"
   ]
  },
  {
   "cell_type": "code",
   "execution_count": 36,
   "metadata": {},
   "outputs": [],
   "source": [
    "ord_col = [\"LEVEL_VETTING_C\"]\n",
    "cat_col = [\"LEAD_SOURCE\",\"STATUS\",\"ROLE_C\",\"AGENT_ROLE_C\",\"STATE_STD\"]"
   ]
  },
  {
   "cell_type": "code",
   "execution_count": 39,
   "metadata": {},
   "outputs": [],
   "source": [
    "for col in cat_col:\n",
    "    all_lead_acs_county[col] = condense_category(all_lead_acs_county[col])"
   ]
  },
  {
   "cell_type": "markdown",
   "metadata": {},
   "source": [
    "###  Ordinal Encoding"
   ]
  },
  {
   "cell_type": "code",
   "execution_count": 40,
   "metadata": {},
   "outputs": [],
   "source": [
    "def ordinal_encoding(df:pd.DataFrame, col_list:list) -> pd.DataFrame:\n",
    "    for col in col_list:\n",
    "        ord_enc = OrdinalEncoder()\n",
    "        df[col +\"_ORD\"] = df[col].apply(ord_enc.fit_transform)\n",
    "    return df"
   ]
  },
  {
   "cell_type": "code",
   "execution_count": 41,
   "metadata": {},
   "outputs": [],
   "source": [
    "all_lead_acs_county[\"LEVEL_VETTING_C\"]= all_lead_acs_county[\"LEVEL_VETTING_C\"].fillna(np.nan)"
   ]
  },
  {
   "cell_type": "code",
   "execution_count": 42,
   "metadata": {},
   "outputs": [],
   "source": [
    "level_mapping = [ 'Level 3 - Less than 4 listings/yr', 'Level 2 - 4+ listings/yr', \"Level 1 - 10+ listings/yr\", 'Level Gold 20-29 Listings/yr', 'Level Platinum 30+ Listings/yr']"
   ]
  },
  {
   "cell_type": "code",
   "execution_count": 43,
   "metadata": {},
   "outputs": [],
   "source": [
    "encoder = OrdinalEncoder(categories=[level_mapping], handle_unknown = \"use_encoded_value\", unknown_value= np.nan, encoded_missing_value= -1)"
   ]
  },
  {
   "cell_type": "code",
   "execution_count": 44,
   "metadata": {},
   "outputs": [
    {
     "data": {
      "text/html": [
       "<style>#sk-container-id-1 {color: black;background-color: white;}#sk-container-id-1 pre{padding: 0;}#sk-container-id-1 div.sk-toggleable {background-color: white;}#sk-container-id-1 label.sk-toggleable__label {cursor: pointer;display: block;width: 100%;margin-bottom: 0;padding: 0.3em;box-sizing: border-box;text-align: center;}#sk-container-id-1 label.sk-toggleable__label-arrow:before {content: \"▸\";float: left;margin-right: 0.25em;color: #696969;}#sk-container-id-1 label.sk-toggleable__label-arrow:hover:before {color: black;}#sk-container-id-1 div.sk-estimator:hover label.sk-toggleable__label-arrow:before {color: black;}#sk-container-id-1 div.sk-toggleable__content {max-height: 0;max-width: 0;overflow: hidden;text-align: left;background-color: #f0f8ff;}#sk-container-id-1 div.sk-toggleable__content pre {margin: 0.2em;color: black;border-radius: 0.25em;background-color: #f0f8ff;}#sk-container-id-1 input.sk-toggleable__control:checked~div.sk-toggleable__content {max-height: 200px;max-width: 100%;overflow: auto;}#sk-container-id-1 input.sk-toggleable__control:checked~label.sk-toggleable__label-arrow:before {content: \"▾\";}#sk-container-id-1 div.sk-estimator input.sk-toggleable__control:checked~label.sk-toggleable__label {background-color: #d4ebff;}#sk-container-id-1 div.sk-label input.sk-toggleable__control:checked~label.sk-toggleable__label {background-color: #d4ebff;}#sk-container-id-1 input.sk-hidden--visually {border: 0;clip: rect(1px 1px 1px 1px);clip: rect(1px, 1px, 1px, 1px);height: 1px;margin: -1px;overflow: hidden;padding: 0;position: absolute;width: 1px;}#sk-container-id-1 div.sk-estimator {font-family: monospace;background-color: #f0f8ff;border: 1px dotted black;border-radius: 0.25em;box-sizing: border-box;margin-bottom: 0.5em;}#sk-container-id-1 div.sk-estimator:hover {background-color: #d4ebff;}#sk-container-id-1 div.sk-parallel-item::after {content: \"\";width: 100%;border-bottom: 1px solid gray;flex-grow: 1;}#sk-container-id-1 div.sk-label:hover label.sk-toggleable__label {background-color: #d4ebff;}#sk-container-id-1 div.sk-serial::before {content: \"\";position: absolute;border-left: 1px solid gray;box-sizing: border-box;top: 0;bottom: 0;left: 50%;z-index: 0;}#sk-container-id-1 div.sk-serial {display: flex;flex-direction: column;align-items: center;background-color: white;padding-right: 0.2em;padding-left: 0.2em;position: relative;}#sk-container-id-1 div.sk-item {position: relative;z-index: 1;}#sk-container-id-1 div.sk-parallel {display: flex;align-items: stretch;justify-content: center;background-color: white;position: relative;}#sk-container-id-1 div.sk-item::before, #sk-container-id-1 div.sk-parallel-item::before {content: \"\";position: absolute;border-left: 1px solid gray;box-sizing: border-box;top: 0;bottom: 0;left: 50%;z-index: -1;}#sk-container-id-1 div.sk-parallel-item {display: flex;flex-direction: column;z-index: 1;position: relative;background-color: white;}#sk-container-id-1 div.sk-parallel-item:first-child::after {align-self: flex-end;width: 50%;}#sk-container-id-1 div.sk-parallel-item:last-child::after {align-self: flex-start;width: 50%;}#sk-container-id-1 div.sk-parallel-item:only-child::after {width: 0;}#sk-container-id-1 div.sk-dashed-wrapped {border: 1px dashed gray;margin: 0 0.4em 0.5em 0.4em;box-sizing: border-box;padding-bottom: 0.4em;background-color: white;}#sk-container-id-1 div.sk-label label {font-family: monospace;font-weight: bold;display: inline-block;line-height: 1.2em;}#sk-container-id-1 div.sk-label-container {text-align: center;}#sk-container-id-1 div.sk-container {/* jupyter's `normalize.less` sets `[hidden] { display: none; }` but bootstrap.min.css set `[hidden] { display: none !important; }` so we also need the `!important` here to be able to override the default hidden behavior on the sphinx rendered scikit-learn.org. See: https://github.com/scikit-learn/scikit-learn/issues/21755 */display: inline-block !important;position: relative;}#sk-container-id-1 div.sk-text-repr-fallback {display: none;}</style><div id=\"sk-container-id-1\" class=\"sk-top-container\"><div class=\"sk-text-repr-fallback\"><pre>OrdinalEncoder(categories=[[&#x27;Level 1 - 10+ listings/yr&#x27;,\n",
       "                            &#x27;Level 2 - 4+ listings/yr&#x27;,\n",
       "                            &#x27;Level 3 - Less than 4 listings/yr&#x27;,\n",
       "                            &#x27;Level Gold 20-29 Listings/yr&#x27;,\n",
       "                            &#x27;Level Platinum 30+ Listings/yr&#x27;]],\n",
       "               encoded_missing_value=-1, handle_unknown=&#x27;use_encoded_value&#x27;,\n",
       "               unknown_value=nan)</pre><b>In a Jupyter environment, please rerun this cell to show the HTML representation or trust the notebook. <br />On GitHub, the HTML representation is unable to render, please try loading this page with nbviewer.org.</b></div><div class=\"sk-container\" hidden><div class=\"sk-item\"><div class=\"sk-estimator sk-toggleable\"><input class=\"sk-toggleable__control sk-hidden--visually\" id=\"sk-estimator-id-1\" type=\"checkbox\" checked><label for=\"sk-estimator-id-1\" class=\"sk-toggleable__label sk-toggleable__label-arrow\">OrdinalEncoder</label><div class=\"sk-toggleable__content\"><pre>OrdinalEncoder(categories=[[&#x27;Level 1 - 10+ listings/yr&#x27;,\n",
       "                            &#x27;Level 2 - 4+ listings/yr&#x27;,\n",
       "                            &#x27;Level 3 - Less than 4 listings/yr&#x27;,\n",
       "                            &#x27;Level Gold 20-29 Listings/yr&#x27;,\n",
       "                            &#x27;Level Platinum 30+ Listings/yr&#x27;]],\n",
       "               encoded_missing_value=-1, handle_unknown=&#x27;use_encoded_value&#x27;,\n",
       "               unknown_value=nan)</pre></div></div></div></div></div>"
      ],
      "text/plain": [
       "OrdinalEncoder(categories=[['Level 1 - 10+ listings/yr',\n",
       "                            'Level 2 - 4+ listings/yr',\n",
       "                            'Level 3 - Less than 4 listings/yr',\n",
       "                            'Level Gold 20-29 Listings/yr',\n",
       "                            'Level Platinum 30+ Listings/yr']],\n",
       "               encoded_missing_value=-1, handle_unknown='use_encoded_value',\n",
       "               unknown_value=nan)"
      ]
     },
     "execution_count": 44,
     "metadata": {},
     "output_type": "execute_result"
    }
   ],
   "source": [
    "encoder.fit(all_lead_acs_county[[\"LEVEL_VETTING_C\"]])"
   ]
  },
  {
   "cell_type": "code",
   "execution_count": 45,
   "metadata": {},
   "outputs": [],
   "source": [
    "all_lead_acs_county[\"LEVEL_VETTING_C\"]= encoder.transform(all_lead_acs_county[[\"LEVEL_VETTING_C\"]])"
   ]
  },
  {
   "cell_type": "code",
   "execution_count": 46,
   "metadata": {},
   "outputs": [],
   "source": [
    "# One Hot Encoding"
   ]
  },
  {
   "cell_type": "code",
   "execution_count": 47,
   "metadata": {},
   "outputs": [],
   "source": [
    "all_lead_acs_county = pd.get_dummies(all_lead_acs_county, columns= cat_col)"
   ]
  },
  {
   "cell_type": "code",
   "execution_count": null,
   "metadata": {},
   "outputs": [],
   "source": [
    "# process:\n",
    "# train: account creation: 07-01-2021 and before, rollback the status, listing (to be validate )\n",
    "# val: split from train\n",
    "# test: account creation: 10-01-2021 and before, rollback the status\n"
   ]
  },
  {
   "cell_type": "code",
   "execution_count": null,
   "metadata": {},
   "outputs": [],
   "source": [
    "# response variable creation\n",
    "# y_train: use lead to check if it's converted\n",
    "# y_test: use lead_hist to check if it's converted"
   ]
  },
  {
   "cell_type": "code",
   "execution_count": null,
   "metadata": {},
   "outputs": [],
   "source": []
  },
  {
   "cell_type": "code",
   "execution_count": null,
   "metadata": {},
   "outputs": [],
   "source": []
  },
  {
   "cell_type": "code",
   "execution_count": null,
   "metadata": {},
   "outputs": [],
   "source": []
  },
  {
   "cell_type": "code",
   "execution_count": null,
   "metadata": {},
   "outputs": [],
   "source": []
  },
  {
   "cell_type": "code",
   "execution_count": 51,
   "metadata": {},
   "outputs": [],
   "source": [
    "# all_lead_acs_county.to_csv(\"../data/model/all_lead_acs_model.csv\",index = None)"
   ]
  }
 ],
 "metadata": {
  "interpreter": {
   "hash": "a0eb2d2dd4b4dd2649350d09f611fdae14e412f0f9cf0ef9612266193b255263"
  },
  "kernelspec": {
   "display_name": "Python 3.10.4 ('ml_env')",
   "language": "python",
   "name": "python3"
  },
  "language_info": {
   "codemirror_mode": {
    "name": "ipython",
    "version": 3
   },
   "file_extension": ".py",
   "mimetype": "text/x-python",
   "name": "python",
   "nbconvert_exporter": "python",
   "pygments_lexer": "ipython3",
   "version": "3.10.4"
  },
  "orig_nbformat": 4
 },
 "nbformat": 4,
 "nbformat_minor": 2
}
